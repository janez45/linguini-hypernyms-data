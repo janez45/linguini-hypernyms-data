{
 "cells": [
  {
   "cell_type": "code",
   "execution_count": 1,
   "id": "10468c75-fa6c-462f-b69e-6032bc37df1c",
   "metadata": {},
   "outputs": [],
   "source": [
    "import sys\n",
    "import os\n",
    "import pandas\n",
    "import numpy\n",
    "import psycopg2"
   ]
  },
  {
   "cell_type": "code",
   "execution_count": 2,
   "id": "cd7f2ade-4c4b-4fbd-a30e-f210a0000705",
   "metadata": {},
   "outputs": [],
   "source": [
    "from dotenv import load_dotenv\n",
    "load_dotenv()\n",
    "\n",
    "DBNAME = os.getenv(\"dbname\")\n",
    "USERNAME = os.getenv(\"user\")\n",
    "PASSWORD = os.getenv(\"password\")\n",
    "HOST = os.getenv(\"host\")\n",
    "PORT = os.getenv(\"port\")"
   ]
  },
  {
   "cell_type": "markdown",
   "id": "62f4f504-71d3-44d6-842a-3885bca7dccf",
   "metadata": {},
   "source": [
    "# Kaggle dataset\n",
    "\n",
    "[Link to Kaggle dataset, based on WordNet](https://www.kaggle.com/datasets/duketemon/hypernyms-wordnet)"
   ]
  },
  {
   "cell_type": "code",
   "execution_count": 3,
   "id": "a259a102-9b0b-4ca7-820b-3abc3b080943",
   "metadata": {},
   "outputs": [],
   "source": [
    "df = pandas.read_csv(\"data/hypernyms.csv\")"
   ]
  },
  {
   "cell_type": "code",
   "execution_count": 4,
   "id": "5a2077cd-d7f7-46e9-8cfc-3c46d5d59ac5",
   "metadata": {},
   "outputs": [
    {
     "data": {
      "text/html": [
       "<div>\n",
       "<style scoped>\n",
       "    .dataframe tbody tr th:only-of-type {\n",
       "        vertical-align: middle;\n",
       "    }\n",
       "\n",
       "    .dataframe tbody tr th {\n",
       "        vertical-align: top;\n",
       "    }\n",
       "\n",
       "    .dataframe thead th {\n",
       "        text-align: right;\n",
       "    }\n",
       "</style>\n",
       "<table border=\"1\" class=\"dataframe\">\n",
       "  <thead>\n",
       "    <tr style=\"text-align: right;\">\n",
       "      <th></th>\n",
       "      <th>lemma</th>\n",
       "      <th>part_of_speech</th>\n",
       "      <th>hypernyms</th>\n",
       "    </tr>\n",
       "  </thead>\n",
       "  <tbody>\n",
       "    <tr>\n",
       "      <th>0</th>\n",
       "      <td>0</td>\n",
       "      <td>noun</td>\n",
       "      <td>digit</td>\n",
       "    </tr>\n",
       "    <tr>\n",
       "      <th>1</th>\n",
       "      <td>1</td>\n",
       "      <td>noun</td>\n",
       "      <td>digit</td>\n",
       "    </tr>\n",
       "    <tr>\n",
       "      <th>2</th>\n",
       "      <td>10</td>\n",
       "      <td>noun</td>\n",
       "      <td>large integer</td>\n",
       "    </tr>\n",
       "    <tr>\n",
       "      <th>3</th>\n",
       "      <td>100</td>\n",
       "      <td>noun</td>\n",
       "      <td>large integer</td>\n",
       "    </tr>\n",
       "    <tr>\n",
       "      <th>4</th>\n",
       "      <td>1000</td>\n",
       "      <td>noun</td>\n",
       "      <td>large integer</td>\n",
       "    </tr>\n",
       "    <tr>\n",
       "      <th>...</th>\n",
       "      <td>...</td>\n",
       "      <td>...</td>\n",
       "      <td>...</td>\n",
       "    </tr>\n",
       "    <tr>\n",
       "      <th>120375</th>\n",
       "      <td>zip by</td>\n",
       "      <td>verb</td>\n",
       "      <td>travel by</td>\n",
       "    </tr>\n",
       "    <tr>\n",
       "      <th>120376</th>\n",
       "      <td>zip up</td>\n",
       "      <td>verb</td>\n",
       "      <td>fasten</td>\n",
       "    </tr>\n",
       "    <tr>\n",
       "      <th>120377</th>\n",
       "      <td>zonk out</td>\n",
       "      <td>verb</td>\n",
       "      <td>change state|fall asleep</td>\n",
       "    </tr>\n",
       "    <tr>\n",
       "      <th>120378</th>\n",
       "      <td>zoom along</td>\n",
       "      <td>verb</td>\n",
       "      <td>travel rapidly</td>\n",
       "    </tr>\n",
       "    <tr>\n",
       "      <th>120379</th>\n",
       "      <td>zoom in</td>\n",
       "      <td>verb</td>\n",
       "      <td>concentrate</td>\n",
       "    </tr>\n",
       "  </tbody>\n",
       "</table>\n",
       "<p>120380 rows × 3 columns</p>\n",
       "</div>"
      ],
      "text/plain": [
       "             lemma part_of_speech                 hypernyms\n",
       "0                0           noun                     digit\n",
       "1                1           noun                     digit\n",
       "2               10           noun             large integer\n",
       "3              100           noun             large integer\n",
       "4             1000           noun             large integer\n",
       "...            ...            ...                       ...\n",
       "120375      zip by           verb                 travel by\n",
       "120376      zip up           verb                    fasten\n",
       "120377    zonk out           verb  change state|fall asleep\n",
       "120378  zoom along           verb            travel rapidly\n",
       "120379     zoom in           verb               concentrate\n",
       "\n",
       "[120380 rows x 3 columns]"
      ]
     },
     "execution_count": 4,
     "metadata": {},
     "output_type": "execute_result"
    }
   ],
   "source": [
    "df"
   ]
  },
  {
   "cell_type": "code",
   "execution_count": 5,
   "id": "e44be731-413b-40b5-98b5-d17a903f890d",
   "metadata": {},
   "outputs": [],
   "source": [
    "nouns_df = df[df[\"part_of_speech\"] == \"noun\"][[\"lemma\", \"hypernyms\"]]"
   ]
  },
  {
   "cell_type": "code",
   "execution_count": 6,
   "id": "f48d3377-b42f-4bc2-813b-b8460556e837",
   "metadata": {},
   "outputs": [
    {
     "name": "stdout",
     "output_type": "stream",
     "text": [
      "<class 'pandas.core.frame.DataFrame'>\n",
      "Index: 104504 entries, 0 to 119483\n",
      "Data columns (total 2 columns):\n",
      " #   Column      Non-Null Count   Dtype \n",
      "---  ------      --------------   ----- \n",
      " 0   word        104504 non-null  object\n",
      " 1   categories  104504 non-null  object\n",
      "dtypes: object(2)\n",
      "memory usage: 2.4+ MB\n"
     ]
    }
   ],
   "source": [
    "nouns_df = nouns_df.dropna()\n",
    "nouns_df = nouns_df.rename(columns={\"lemma\": \"word\", \"hypernyms\": \"categories\"})\n",
    "nouns_df.info()"
   ]
  },
  {
   "cell_type": "code",
   "execution_count": 7,
   "id": "3abdcf16-0096-4ee2-a83e-f26f5a9b9171",
   "metadata": {},
   "outputs": [
    {
     "name": "stdout",
     "output_type": "stream",
     "text": [
      "Passed\n"
     ]
    }
   ],
   "source": [
    "# assert no duplicates\n",
    "assert len(nouns_df) == len(nouns_df['word'].unique())\n",
    "print(\"Passed\")"
   ]
  },
  {
   "cell_type": "markdown",
   "id": "eee38396-5e73-4536-9844-9697553f8050",
   "metadata": {},
   "source": [
    "## Some thoughts\n",
    "\n",
    "- A lot of noisy data - not the best\n",
    "- building up might be more efficient than building down: the most hypernyms a word has is 33\n",
    "- What if there's a cycle? This dataset does not look good because it might have synonyms. We may have to use other datasets\n",
    "    - Band-aid solution would be to remove the cycles\n",
    " \n",
    "Some better resources:\n",
    "- [EVALuation](https://paperswithcode.com/dataset/evalution)\n",
    "- [EVALuation Github](https://github.com/esantus/EVALution/tree/master/EVALution_1.0)\n",
    "- [Linked Hypernyms Dataset](https://ner.vse.cz/datasets/linkedhypernyms/)"
   ]
  },
  {
   "cell_type": "code",
   "execution_count": 8,
   "id": "4b066b3f-b8ed-4e98-9f0c-ffec50551a68",
   "metadata": {},
   "outputs": [
    {
     "data": {
      "text/html": [
       "<div>\n",
       "<style scoped>\n",
       "    .dataframe tbody tr th:only-of-type {\n",
       "        vertical-align: middle;\n",
       "    }\n",
       "\n",
       "    .dataframe tbody tr th {\n",
       "        vertical-align: top;\n",
       "    }\n",
       "\n",
       "    .dataframe thead th {\n",
       "        text-align: right;\n",
       "    }\n",
       "</style>\n",
       "<table border=\"1\" class=\"dataframe\">\n",
       "  <thead>\n",
       "    <tr style=\"text-align: right;\">\n",
       "      <th></th>\n",
       "      <th>word</th>\n",
       "      <th>categories</th>\n",
       "    </tr>\n",
       "  </thead>\n",
       "  <tbody>\n",
       "    <tr>\n",
       "      <th>0</th>\n",
       "      <td>0</td>\n",
       "      <td>digit</td>\n",
       "    </tr>\n",
       "    <tr>\n",
       "      <th>1</th>\n",
       "      <td>1</td>\n",
       "      <td>digit</td>\n",
       "    </tr>\n",
       "    <tr>\n",
       "      <th>2</th>\n",
       "      <td>10</td>\n",
       "      <td>large integer</td>\n",
       "    </tr>\n",
       "    <tr>\n",
       "      <th>3</th>\n",
       "      <td>100</td>\n",
       "      <td>large integer</td>\n",
       "    </tr>\n",
       "    <tr>\n",
       "      <th>4</th>\n",
       "      <td>1000</td>\n",
       "      <td>large integer</td>\n",
       "    </tr>\n",
       "    <tr>\n",
       "      <th>...</th>\n",
       "      <td>...</td>\n",
       "      <td>...</td>\n",
       "    </tr>\n",
       "    <tr>\n",
       "      <th>117570</th>\n",
       "      <td>obsess</td>\n",
       "      <td>medicine</td>\n",
       "    </tr>\n",
       "    <tr>\n",
       "      <th>118039</th>\n",
       "      <td>possess</td>\n",
       "      <td>police</td>\n",
       "    </tr>\n",
       "    <tr>\n",
       "      <th>118833</th>\n",
       "      <td>saw logs</td>\n",
       "      <td>log</td>\n",
       "    </tr>\n",
       "    <tr>\n",
       "      <th>119084</th>\n",
       "      <td>siss</td>\n",
       "      <td>female sibling</td>\n",
       "    </tr>\n",
       "    <tr>\n",
       "      <th>119483</th>\n",
       "      <td>succuss</td>\n",
       "      <td>liquid body substance</td>\n",
       "    </tr>\n",
       "  </tbody>\n",
       "</table>\n",
       "<p>104504 rows × 2 columns</p>\n",
       "</div>"
      ],
      "text/plain": [
       "            word             categories\n",
       "0              0                  digit\n",
       "1              1                  digit\n",
       "2             10          large integer\n",
       "3            100          large integer\n",
       "4           1000          large integer\n",
       "...          ...                    ...\n",
       "117570    obsess               medicine\n",
       "118039   possess                 police\n",
       "118833  saw logs                    log\n",
       "119084      siss         female sibling\n",
       "119483   succuss  liquid body substance\n",
       "\n",
       "[104504 rows x 2 columns]"
      ]
     },
     "execution_count": 8,
     "metadata": {},
     "output_type": "execute_result"
    }
   ],
   "source": [
    "nouns_df"
   ]
  },
  {
   "cell_type": "markdown",
   "id": "ce3adc2a-db4d-4563-a1cd-b80ad9e2e9f4",
   "metadata": {},
   "source": [
    "### Some data analysis"
   ]
  },
  {
   "cell_type": "code",
   "execution_count": 9,
   "id": "486e4585-d90d-40e8-9a2e-e655e29e7876",
   "metadata": {},
   "outputs": [
    {
     "data": {
      "text/html": [
       "<div>\n",
       "<style scoped>\n",
       "    .dataframe tbody tr th:only-of-type {\n",
       "        vertical-align: middle;\n",
       "    }\n",
       "\n",
       "    .dataframe tbody tr th {\n",
       "        vertical-align: top;\n",
       "    }\n",
       "\n",
       "    .dataframe thead th {\n",
       "        text-align: right;\n",
       "    }\n",
       "</style>\n",
       "<table border=\"1\" class=\"dataframe\">\n",
       "  <thead>\n",
       "    <tr style=\"text-align: right;\">\n",
       "      <th></th>\n",
       "      <th>word</th>\n",
       "      <th>categories</th>\n",
       "    </tr>\n",
       "  </thead>\n",
       "  <tbody>\n",
       "    <tr>\n",
       "      <th>57</th>\n",
       "      <td>aboriginal</td>\n",
       "      <td>australian;ethnic group|person</td>\n",
       "    </tr>\n",
       "    <tr>\n",
       "      <th>112</th>\n",
       "      <td>acting</td>\n",
       "      <td>activity;performing arts</td>\n",
       "    </tr>\n",
       "    <tr>\n",
       "      <th>126</th>\n",
       "      <td>adagio</td>\n",
       "      <td>musical composition;passage|dancing</td>\n",
       "    </tr>\n",
       "    <tr>\n",
       "      <th>127</th>\n",
       "      <td>adamant</td>\n",
       "      <td>carbon;transparent gem</td>\n",
       "    </tr>\n",
       "    <tr>\n",
       "      <th>246</th>\n",
       "      <td>allegretto</td>\n",
       "      <td>tempo|musical composition;passage</td>\n",
       "    </tr>\n",
       "    <tr>\n",
       "      <th>247</th>\n",
       "      <td>allegro</td>\n",
       "      <td>tempo|musical composition;passage</td>\n",
       "    </tr>\n",
       "    <tr>\n",
       "      <th>277</th>\n",
       "      <td>amethyst</td>\n",
       "      <td>quartz;transparent gem</td>\n",
       "    </tr>\n",
       "    <tr>\n",
       "      <th>298</th>\n",
       "      <td>andante</td>\n",
       "      <td>tempo|musical composition;passage</td>\n",
       "    </tr>\n",
       "    <tr>\n",
       "      <th>430</th>\n",
       "      <td>arsenical</td>\n",
       "      <td>drug;pesticide</td>\n",
       "    </tr>\n",
       "    <tr>\n",
       "      <th>443</th>\n",
       "      <td>asian</td>\n",
       "      <td>inhabitant;person of color</td>\n",
       "    </tr>\n",
       "    <tr>\n",
       "      <th>444</th>\n",
       "      <td>asiatic</td>\n",
       "      <td>inhabitant;person of color</td>\n",
       "    </tr>\n",
       "    <tr>\n",
       "      <th>472</th>\n",
       "      <td>ataractic</td>\n",
       "      <td>psychotropic agent;sedative-hypnotic</td>\n",
       "    </tr>\n",
       "    <tr>\n",
       "      <th>504</th>\n",
       "      <td>automatic</td>\n",
       "      <td>automatic firearm;machine gun|automatic firear...</td>\n",
       "    </tr>\n",
       "    <tr>\n",
       "      <th>536</th>\n",
       "      <td>bahai</td>\n",
       "      <td>disciple;teacher</td>\n",
       "    </tr>\n",
       "    <tr>\n",
       "      <th>661</th>\n",
       "      <td>beta</td>\n",
       "      <td>letter|caryophylloid dicot genus;chenopodiaceae</td>\n",
       "    </tr>\n",
       "    <tr>\n",
       "      <th>707</th>\n",
       "      <td>black</td>\n",
       "      <td>achromatic color|dark|person;person of color|m...</td>\n",
       "    </tr>\n",
       "    <tr>\n",
       "      <th>812</th>\n",
       "      <td>bowing</td>\n",
       "      <td>gesture;reverence|playing</td>\n",
       "    </tr>\n",
       "    <tr>\n",
       "      <th>814</th>\n",
       "      <td>bowleg</td>\n",
       "      <td>disability;leg</td>\n",
       "    </tr>\n",
       "    <tr>\n",
       "      <th>820</th>\n",
       "      <td>bracing</td>\n",
       "      <td>strengthener;structural member</td>\n",
       "    </tr>\n",
       "    <tr>\n",
       "      <th>861</th>\n",
       "      <td>broadside</td>\n",
       "      <td>ad|declamation;denunciation|armament|side|fire</td>\n",
       "    </tr>\n",
       "    <tr>\n",
       "      <th>942</th>\n",
       "      <td>c</td>\n",
       "      <td>degree|constant;speed|antioxidant;water-solubl...</td>\n",
       "    </tr>\n",
       "    <tr>\n",
       "      <th>997</th>\n",
       "      <td>cardboard</td>\n",
       "      <td>packing material;paper</td>\n",
       "    </tr>\n",
       "    <tr>\n",
       "      <th>1041</th>\n",
       "      <td>cd</td>\n",
       "      <td>metallic element|luminous intensity unit|debt ...</td>\n",
       "    </tr>\n",
       "    <tr>\n",
       "      <th>1089</th>\n",
       "      <td>charcoal</td>\n",
       "      <td>carbon;fuel|writing implement|gray|drawing</td>\n",
       "    </tr>\n",
       "    <tr>\n",
       "      <th>1112</th>\n",
       "      <td>cherry</td>\n",
       "      <td>wood|fruit tree|drupe;edible fruit|red</td>\n",
       "    </tr>\n",
       "    <tr>\n",
       "      <th>1145</th>\n",
       "      <td>cl</td>\n",
       "      <td>chemical element;gas;halogen|metric capacity unit</td>\n",
       "    </tr>\n",
       "    <tr>\n",
       "      <th>1212</th>\n",
       "      <td>cold</td>\n",
       "      <td>communicable disease;respiratory disease|tempe...</td>\n",
       "    </tr>\n",
       "    <tr>\n",
       "      <th>1255</th>\n",
       "      <td>commonplace</td>\n",
       "      <td>remark;truism</td>\n",
       "    </tr>\n",
       "    <tr>\n",
       "      <th>1259</th>\n",
       "      <td>comparative</td>\n",
       "      <td>adjective;adverb</td>\n",
       "    </tr>\n",
       "    <tr>\n",
       "      <th>1288</th>\n",
       "      <td>concrete</td>\n",
       "      <td>building material;paving</td>\n",
       "    </tr>\n",
       "    <tr>\n",
       "      <th>1294</th>\n",
       "      <td>confederate</td>\n",
       "      <td>southerner;supporter|accessory|assistant</td>\n",
       "    </tr>\n",
       "    <tr>\n",
       "      <th>1366</th>\n",
       "      <td>contrabass</td>\n",
       "      <td>bass;bowed stringed instrument</td>\n",
       "    </tr>\n",
       "    <tr>\n",
       "      <th>1409</th>\n",
       "      <td>coronary</td>\n",
       "      <td>coronary heart disease;thrombosis</td>\n",
       "    </tr>\n",
       "    <tr>\n",
       "      <th>1458</th>\n",
       "      <td>crank</td>\n",
       "      <td>unpleasant person|eccentric|amphetamine;contro...</td>\n",
       "    </tr>\n",
       "    <tr>\n",
       "      <th>1501</th>\n",
       "      <td>crude</td>\n",
       "      <td>fossil fuel;oil</td>\n",
       "    </tr>\n",
       "    <tr>\n",
       "      <th>1536</th>\n",
       "      <td>custom</td>\n",
       "      <td>practice;survival|practice|duty|trade</td>\n",
       "    </tr>\n",
       "    <tr>\n",
       "      <th>1554</th>\n",
       "      <td>cyrillic</td>\n",
       "      <td>alphabet;bicameral script</td>\n",
       "    </tr>\n",
       "    <tr>\n",
       "      <th>1708</th>\n",
       "      <td>depressant</td>\n",
       "      <td>drug of abuse;medicine</td>\n",
       "    </tr>\n",
       "    <tr>\n",
       "      <th>1762</th>\n",
       "      <td>diagonal</td>\n",
       "      <td>straight line|straight line|line;line|set|punc...</td>\n",
       "    </tr>\n",
       "    <tr>\n",
       "      <th>1971</th>\n",
       "      <td>drinkable</td>\n",
       "      <td>food;liquid</td>\n",
       "    </tr>\n",
       "    <tr>\n",
       "      <th>1974</th>\n",
       "      <td>driving</td>\n",
       "      <td>golf stroke|steering;travel</td>\n",
       "    </tr>\n",
       "    <tr>\n",
       "      <th>2047</th>\n",
       "      <td>eight</td>\n",
       "      <td>digit|artistic movement;school|spot</td>\n",
       "    </tr>\n",
       "    <tr>\n",
       "      <th>2056</th>\n",
       "      <td>elastic</td>\n",
       "      <td>band;elastic device|fabric</td>\n",
       "    </tr>\n",
       "    <tr>\n",
       "      <th>2215</th>\n",
       "      <td>eurafrican</td>\n",
       "      <td>african;european</td>\n",
       "    </tr>\n",
       "    <tr>\n",
       "      <th>2216</th>\n",
       "      <td>eurasian</td>\n",
       "      <td>asian;european</td>\n",
       "    </tr>\n",
       "    <tr>\n",
       "      <th>2291</th>\n",
       "      <td>facial</td>\n",
       "      <td>cranial nerve|beauty treatment;skin care</td>\n",
       "    </tr>\n",
       "    <tr>\n",
       "      <th>2394</th>\n",
       "      <td>five</td>\n",
       "      <td>digit|team|die;domino;spot</td>\n",
       "    </tr>\n",
       "    <tr>\n",
       "      <th>2408</th>\n",
       "      <td>flash</td>\n",
       "      <td>happening|brightness|experience|insight|moment...</td>\n",
       "    </tr>\n",
       "    <tr>\n",
       "      <th>2493</th>\n",
       "      <td>formal</td>\n",
       "      <td>dance|formalwear;gown</td>\n",
       "    </tr>\n",
       "    <tr>\n",
       "      <th>2519</th>\n",
       "      <td>four</td>\n",
       "      <td>digit|die;domino;spot</td>\n",
       "    </tr>\n",
       "  </tbody>\n",
       "</table>\n",
       "</div>"
      ],
      "text/plain": [
       "             word                                         categories\n",
       "57     aboriginal                     australian;ethnic group|person\n",
       "112        acting                           activity;performing arts\n",
       "126        adagio                musical composition;passage|dancing\n",
       "127       adamant                             carbon;transparent gem\n",
       "246    allegretto                  tempo|musical composition;passage\n",
       "247       allegro                  tempo|musical composition;passage\n",
       "277      amethyst                             quartz;transparent gem\n",
       "298       andante                  tempo|musical composition;passage\n",
       "430     arsenical                                     drug;pesticide\n",
       "443         asian                         inhabitant;person of color\n",
       "444       asiatic                         inhabitant;person of color\n",
       "472     ataractic               psychotropic agent;sedative-hypnotic\n",
       "504     automatic  automatic firearm;machine gun|automatic firear...\n",
       "536         bahai                                   disciple;teacher\n",
       "661          beta    letter|caryophylloid dicot genus;chenopodiaceae\n",
       "707         black  achromatic color|dark|person;person of color|m...\n",
       "812        bowing                          gesture;reverence|playing\n",
       "814        bowleg                                     disability;leg\n",
       "820       bracing                     strengthener;structural member\n",
       "861     broadside     ad|declamation;denunciation|armament|side|fire\n",
       "942             c  degree|constant;speed|antioxidant;water-solubl...\n",
       "997     cardboard                             packing material;paper\n",
       "1041           cd  metallic element|luminous intensity unit|debt ...\n",
       "1089     charcoal         carbon;fuel|writing implement|gray|drawing\n",
       "1112       cherry             wood|fruit tree|drupe;edible fruit|red\n",
       "1145           cl  chemical element;gas;halogen|metric capacity unit\n",
       "1212         cold  communicable disease;respiratory disease|tempe...\n",
       "1255  commonplace                                      remark;truism\n",
       "1259  comparative                                   adjective;adverb\n",
       "1288     concrete                           building material;paving\n",
       "1294  confederate           southerner;supporter|accessory|assistant\n",
       "1366   contrabass                     bass;bowed stringed instrument\n",
       "1409     coronary                  coronary heart disease;thrombosis\n",
       "1458        crank  unpleasant person|eccentric|amphetamine;contro...\n",
       "1501        crude                                    fossil fuel;oil\n",
       "1536       custom              practice;survival|practice|duty|trade\n",
       "1554     cyrillic                          alphabet;bicameral script\n",
       "1708   depressant                             drug of abuse;medicine\n",
       "1762     diagonal  straight line|straight line|line;line|set|punc...\n",
       "1971    drinkable                                        food;liquid\n",
       "1974      driving                        golf stroke|steering;travel\n",
       "2047        eight                digit|artistic movement;school|spot\n",
       "2056      elastic                         band;elastic device|fabric\n",
       "2215   eurafrican                                   african;european\n",
       "2216     eurasian                                     asian;european\n",
       "2291       facial           cranial nerve|beauty treatment;skin care\n",
       "2394         five                         digit|team|die;domino;spot\n",
       "2408        flash  happening|brightness|experience|insight|moment...\n",
       "2493       formal                              dance|formalwear;gown\n",
       "2519         four                              digit|die;domino;spot"
      ]
     },
     "execution_count": 9,
     "metadata": {},
     "output_type": "execute_result"
    }
   ],
   "source": [
    "nouns_df[nouns_df[\"categories\"].str.contains(';')].head(50)"
   ]
  },
  {
   "cell_type": "code",
   "execution_count": 10,
   "id": "0e561b88-1a77-45c2-ac1e-953b3ec5dece",
   "metadata": {},
   "outputs": [
    {
     "data": {
      "text/html": [
       "<div>\n",
       "<style scoped>\n",
       "    .dataframe tbody tr th:only-of-type {\n",
       "        vertical-align: middle;\n",
       "    }\n",
       "\n",
       "    .dataframe tbody tr th {\n",
       "        vertical-align: top;\n",
       "    }\n",
       "\n",
       "    .dataframe thead th {\n",
       "        text-align: right;\n",
       "    }\n",
       "</style>\n",
       "<table border=\"1\" class=\"dataframe\">\n",
       "  <thead>\n",
       "    <tr style=\"text-align: right;\">\n",
       "      <th></th>\n",
       "      <th>word</th>\n",
       "      <th>categories</th>\n",
       "    </tr>\n",
       "  </thead>\n",
       "  <tbody>\n",
       "    <tr>\n",
       "      <th>67179</th>\n",
       "      <td>melon</td>\n",
       "      <td>edible fruit|gourd</td>\n",
       "    </tr>\n",
       "  </tbody>\n",
       "</table>\n",
       "</div>"
      ],
      "text/plain": [
       "        word          categories\n",
       "67179  melon  edible fruit|gourd"
      ]
     },
     "execution_count": 10,
     "metadata": {},
     "output_type": "execute_result"
    }
   ],
   "source": [
    "nouns_df[nouns_df[\"word\"] == \"melon\"]"
   ]
  },
  {
   "cell_type": "markdown",
   "id": "10da344e-6407-4135-831e-717feddedeed",
   "metadata": {},
   "source": [
    "## Using PostgreSQL"
   ]
  },
  {
   "cell_type": "code",
   "execution_count": 11,
   "id": "dd8a0ca2-b619-45bd-be69-76ca3f8a1a50",
   "metadata": {},
   "outputs": [],
   "source": [
    "conn = psycopg2.connect(\n",
    "    dbname=DBNAME,\n",
    "    user=USERNAME,\n",
    "    password=PASSWORD,\n",
    "    host=HOST,\n",
    "    port=PORT\n",
    ")\n",
    "\n",
    "cursor = conn.cursor()"
   ]
  },
  {
   "cell_type": "code",
   "execution_count": 12,
   "id": "b9cd11c7-53ea-412b-b1f8-10b0e332aab6",
   "metadata": {},
   "outputs": [
    {
     "name": "stdout",
     "output_type": "stream",
     "text": [
      "{'user': 'postgres', 'channel_binding': 'prefer', 'dbname': 'linguini', 'host': 'localhost', 'port': '5432', 'options': '', 'sslmode': 'prefer', 'sslcompression': '0', 'sslsni': '1', 'ssl_min_protocol_version': 'TLSv1.2', 'gssencmode': 'prefer', 'krbsrvname': 'postgres', 'target_session_attrs': 'any'}\n"
     ]
    }
   ],
   "source": [
    "print(conn.get_dsn_parameters())"
   ]
  },
  {
   "cell_type": "code",
   "execution_count": 13,
   "id": "f418d2ee-6ee3-4bce-9614-894e1226e515",
   "metadata": {},
   "outputs": [
    {
     "name": "stdout",
     "output_type": "stream",
     "text": [
      "Successfully initialized database.\n"
     ]
    }
   ],
   "source": [
    "def initCategoriesTable():\n",
    "    queries = [\n",
    "        \"DROP TABLE IF EXISTS categories;\",\n",
    "        '''\n",
    "        CREATE TABLE IF NOT EXISTS categories(\n",
    "            word TEXT NOT NULL,\n",
    "            category TEXT NOT NULL,\n",
    "            PRIMARY KEY(word, category)\n",
    "        );\n",
    "        ''',\n",
    "        '''\n",
    "        CREATE INDEX IF NOT EXISTS word_idx ON categories(word);\n",
    "        ''',\n",
    "        '''\n",
    "        CREATE INDEX IF NOT EXISTS category_idx ON categories(category);\n",
    "        '''\n",
    "    ]\n",
    "\n",
    "    try:\n",
    "        for query in queries:\n",
    "            cursor.execute(query)\n",
    "\n",
    "        conn.commit()\n",
    "        print(\"Successfully initialized database.\")\n",
    "    except:\n",
    "        conn.rollback()\n",
    "        print(\"Categories Table initialization failed, rolling back\")\n",
    "        \n",
    "\n",
    "\n",
    "initCategoriesTable()"
   ]
  },
  {
   "cell_type": "code",
   "execution_count": 14,
   "id": "c54d9154-0753-42d3-aa28-a24739696213",
   "metadata": {},
   "outputs": [
    {
     "name": "stdout",
     "output_type": "stream",
     "text": [
      "Successfully loaded words data into database\n"
     ]
    }
   ],
   "source": [
    "# loading the data\n",
    "\n",
    "def load_data():\n",
    "    try:\n",
    "        for idx, row in nouns_df.iterrows():\n",
    "            word = row[\"word\"]\n",
    "            groups = row[\"categories\"].split(\"|\")\n",
    "            categories = set()\n",
    "            for group in groups:\n",
    "                values = group.split(\";\")\n",
    "                for value in values:\n",
    "                    categories.add(value)\n",
    "                   \n",
    "            for category in categories:\n",
    "                insert_query = \"INSERT INTO categories VALUES (%s,%s)\"\n",
    "                data = (word, category)\n",
    "                cursor.execute(insert_query, data)\n",
    "        conn.commit()\n",
    "        print(\"Successfully loaded words data into database\")\n",
    "    except Exception as e:\n",
    "        conn.rollback()\n",
    "        print(f\"Error: ({e})\")\n",
    "\n",
    "load_data()"
   ]
  },
  {
   "cell_type": "code",
   "execution_count": 15,
   "id": "e88f21ef-74f3-4402-9d86-e990b787dbfd",
   "metadata": {},
   "outputs": [
    {
     "name": "stdout",
     "output_type": "stream",
     "text": [
      "[('0', 'digit'), ('1', 'digit'), ('10', 'large integer'), ('100', 'large integer'), ('1000', 'large integer'), ('11', 'large integer'), ('12', 'large integer'), ('120', 'large integer'), ('13', 'large integer'), ('14', 'large integer')]\n"
     ]
    }
   ],
   "source": [
    "cursor.execute(\"SELECT * FROM categories LIMIT 10\")\n",
    "print(cursor.fetchall())"
   ]
  },
  {
   "cell_type": "markdown",
   "id": "78a9ddff-8b43-4fd5-8ae2-a73a826a66dc",
   "metadata": {},
   "source": [
    "## Wrangling"
   ]
  },
  {
   "cell_type": "code",
   "execution_count": 16,
   "id": "9e097254-b5f0-4ab6-b64b-956c2cc19a45",
   "metadata": {},
   "outputs": [],
   "source": [
    "def make_query(query):\n",
    "    try:\n",
    "        cursor.execute(query)\n",
    "        return cursor.fetchall()\n",
    "    except Exception as e:\n",
    "        conn.rollback()\n",
    "        print(f\"An error occurred: {e}\")"
   ]
  },
  {
   "cell_type": "code",
   "execution_count": 17,
   "id": "bf94be85-2c71-4a28-852c-8cdec488be7d",
   "metadata": {},
   "outputs": [
    {
     "name": "stdout",
     "output_type": "stream",
     "text": [
      "[('24 MB',)]\n"
     ]
    }
   ],
   "source": [
    "get_table_size = \"SELECT pg_size_pretty(pg_total_relation_size('categories'));\"\n",
    "result = make_query(get_table_size)\n",
    "print(result)"
   ]
  },
  {
   "cell_type": "code",
   "execution_count": 58,
   "id": "53f36ef7-e262-4e46-b8ae-08a2d0c66fe3",
   "metadata": {},
   "outputs": [
    {
     "name": "stdout",
     "output_type": "stream",
     "text": [
      "93\n",
      "[('bottom', 'region'), ('exterior', 'region'), ('inside', 'region'), ('interior', 'region'), ('outside', 'region'), ('side', 'region'), ('sign', 'region'), ('top', 'region'), ('tops', 'region'), ('unknown', 'region'), ('aerospace', 'region'), ('air', 'region'), ('airs', 'region'), ('antipodes', 'region'), ('area', 'region'), ('atmosphere', 'region'), ('backwater', 'region'), ('belt', 'region'), ('biogeographical region', 'region'), ('biosphere', 'region'), ('black hole', 'region'), ('breadbasket', 'region'), ('country', 'region'), ('county', 'region'), ('deep space', 'region'), ('demesne', 'region'), ('depth', 'region'), ('distance', 'region'), ('district', 'region'), ('domain', 'region'), ('dominion', 'region'), ('eden', 'region'), ('edgeworth-kuiper belt', 'region'), ('extremity', 'region'), ('field', 'region'), ('field of operations', 'region'), ('fields', 'region'), ('geographic area', 'region'), ('geographic region', 'region'), ('geographical area', 'region'), ('geographical region', 'region'), ('heartland', 'region'), ('heaven', 'region'), ('heavens', 'region'), ('heliosphere', 'region'), ('hell', 'region'), ('hell on earth', 'region'), ('hellhole', 'region'), ('house', 'region'), ('inferno', 'region'), ('intergalactic space', 'region'), ('interplanetary space', 'region'), ('interstellar space', 'region'), ('ionosphere', 'region'), ('irredenta', 'region'), ('irridenta', 'region'), ('kuiper belt', 'region'), ('laboratory', 'region'), ('land', 'region'), ('layer', 'region'), ('mansion', 'region'), ('mare', 'region'), ('maria', 'region'), ('nirvana', 'region'), ('northland', 'region'), ('papua', 'region'), ('paradise', 'region'), ('planetary house', 'region'), ('promised land', 'region'), ('radius', 'region'), ('shangri-la', 'region'), ('sign of the zodiac', 'region'), ('sind', 'region'), ('snake pit', 'region'), ('southland', 'region'), ('star sign', 'region'), ('terra incognita', 'region'), ('territorial dominion', 'region'), ('territory', 'region'), ('testing ground', 'region'), ('the pits', 'region'), ('theater', 'region'), ('theater of operations', 'region'), ('theater of war', 'region'), ('theatre', 'region'), ('theatre of operations', 'region'), ('theatre of war', 'region'), ('unknown region', 'region'), ('vacuity', 'region'), ('vacuum', 'region'), ('zodiac', 'region'), ('zone', 'region'), ('zone of interior', 'region')]\n"
     ]
    }
   ],
   "source": [
    "query = \"SELECT word, category FROM categories WHERE category = 'region'\"\n",
    "result = make_query(query)\n",
    "\n",
    "print(len(result))\n",
    "print(result)"
   ]
  },
  {
   "cell_type": "markdown",
   "id": "3615b250-c226-4b51-a13c-9b46eb0aacab",
   "metadata": {},
   "source": [
    "## Turn into recursion"
   ]
  },
  {
   "cell_type": "markdown",
   "id": "acdc2412-fa85-4e6c-bad2-204bd3b7fbb5",
   "metadata": {
    "jp-MarkdownHeadingCollapsed": true
   },
   "source": [
    "### A test with cycles and simple data\n",
    "\n",
    "Over here I was ensuring my logic was correct"
   ]
  },
  {
   "cell_type": "code",
   "execution_count": 25,
   "id": "d688293c-91b6-4672-85af-88cb67363056",
   "metadata": {},
   "outputs": [
    {
     "name": "stdout",
     "output_type": "stream",
     "text": [
      "Successfully initialized test table.\n"
     ]
    }
   ],
   "source": [
    "def initTestTable():\n",
    "    queries = [\n",
    "        \"DROP TABLE IF EXISTS test;\",\n",
    "        '''\n",
    "        CREATE TABLE IF NOT EXISTS test(\n",
    "            word TEXT NOT NULL,\n",
    "            category TEXT NOT NULL,\n",
    "            PRIMARY KEY(word, category)\n",
    "        );\n",
    "        ''',\n",
    "        '''\n",
    "        CREATE INDEX IF NOT EXISTS word_idx ON test(word);\n",
    "        ''',\n",
    "        '''\n",
    "        CREATE INDEX IF NOT EXISTS category_idx ON test(category);\n",
    "        '''\n",
    "    ]\n",
    "\n",
    "    try:\n",
    "        for query in queries:\n",
    "            cursor.execute(query)\n",
    "\n",
    "        conn.commit()\n",
    "        print(\"Successfully initialized test table.\")\n",
    "    except:\n",
    "        conn.rollback()\n",
    "        print(\"Test Table initialization failed, rolling back\")\n",
    "        \n",
    "\n",
    "\n",
    "initTestTable()"
   ]
  },
  {
   "cell_type": "code",
   "execution_count": 26,
   "id": "235ef9d3-9b73-446b-be68-059e2ea7d818",
   "metadata": {},
   "outputs": [
    {
     "name": "stdout",
     "output_type": "stream",
     "text": [
      "Successfully loaded into test database\n"
     ]
    }
   ],
   "source": [
    "def load_test_data():\n",
    "    try:\n",
    "        queries = [\n",
    "            \"INSERT INTO test VALUES ('a','b')\",\n",
    "            \"INSERT INTO test VALUES ('b','c')\",\n",
    "            \"INSERT INTO test VALUES ('c','a')\",\n",
    "            \"INSERT INTO test VALUES ('d','e')\",\n",
    "            \"INSERT INTO test VALUES ('e','d')\",\n",
    "            \"INSERT INTO test VALUES ('f','d')\",\n",
    "            \n",
    "        ]\n",
    "        \n",
    "        for query in queries:\n",
    "            cursor.execute(query)\n",
    "        conn.commit()\n",
    "        print(\"Successfully loaded into test database\")\n",
    "    except Exception as e:\n",
    "        conn.rollback()\n",
    "        print(f\"Error: ({e})\")\n",
    "\n",
    "load_test_data()"
   ]
  },
  {
   "cell_type": "code",
   "execution_count": 27,
   "id": "06011da1-5293-4438-930d-7d7cf41477ed",
   "metadata": {},
   "outputs": [
    {
     "data": {
      "text/plain": [
       "[('a', 'b'), ('b', 'c'), ('c', 'a'), ('d', 'e'), ('e', 'd'), ('f', 'd')]"
      ]
     },
     "execution_count": 27,
     "metadata": {},
     "output_type": "execute_result"
    }
   ],
   "source": [
    "search_query = \"SELECT * FROM test\"\n",
    "make_query(search_query)"
   ]
  },
  {
   "cell_type": "code",
   "execution_count": 28,
   "id": "0af35471-da65-42ef-8aec-c267027f624a",
   "metadata": {},
   "outputs": [
    {
     "data": {
      "text/plain": [
       "[('a', 'b'),\n",
       " ('b', 'c'),\n",
       " ('c', 'a'),\n",
       " ('d', 'e'),\n",
       " ('e', 'd'),\n",
       " ('f', 'd'),\n",
       " ('c', 'b'),\n",
       " ('a', 'c'),\n",
       " ('b', 'a'),\n",
       " ('f', 'e')]"
      ]
     },
     "execution_count": 28,
     "metadata": {},
     "output_type": "execute_result"
    }
   ],
   "source": [
    "recursion_query = \"\"\"\n",
    "    WITH RECURSIVE \n",
    "    hypernyms(word, category) AS (\n",
    "        SELECT word, category FROM test\n",
    "        UNION\n",
    "        SELECT h.word, t.category\n",
    "        FROM hypernyms h, test t\n",
    "        WHERE h.category = t.word AND h.word != t.category\n",
    "    )\n",
    "SELECT * FROM hypernyms;\n",
    "\"\"\"\n",
    "\n",
    "make_query(recursion_query)"
   ]
  },
  {
   "cell_type": "markdown",
   "id": "41344d9b-8e1d-4a8d-b2ce-224ff3d94248",
   "metadata": {},
   "source": [
    "### Now with real data"
   ]
  },
  {
   "cell_type": "code",
   "execution_count": 19,
   "id": "033940ae-4d73-429a-ac93-aa2e7cf1eccd",
   "metadata": {
    "scrolled": true
   },
   "outputs": [
    {
     "data": {
      "text/plain": [
       "212"
      ]
     },
     "execution_count": 19,
     "metadata": {},
     "output_type": "execute_result"
    }
   ],
   "source": [
    "group_by_category = '''\n",
    "    SELECT category, COUNT(*) as count\n",
    "    FROM categories\n",
    "    GROUP BY category\n",
    "    HAVING COUNT(*) >= 65\n",
    "    ORDER BY count DESC;\n",
    "'''\n",
    "\n",
    "len(make_query(group_by_category))"
   ]
  },
  {
   "cell_type": "markdown",
   "id": "fdc3380d-e47e-47ca-9812-784d03c6c06b",
   "metadata": {},
   "source": [
    "### Next steps:\n",
    "- How do you deal with groups and hypernyms of hypernyms?\n",
    "- Group handling\n",
    "- Dropping the groups with less than 50 words?"
   ]
  },
  {
   "cell_type": "markdown",
   "id": "afa084d8-8419-4444-a067-02ba12f1e7f5",
   "metadata": {},
   "source": [
    "# MVP: Validate if a word is in a category\n",
    "\n",
    "* It appears that the categories database is too big. If we're to hold the entire database somewhere, it'll practically explod. It might just be faster to search linearly.\n",
    "* At most this is O(n) time but it's very rare."
   ]
  },
  {
   "cell_type": "code",
   "execution_count": 56,
   "id": "3375889b-c169-4295-a359-912a12018895",
   "metadata": {},
   "outputs": [
    {
     "name": "stdout",
     "output_type": "stream",
     "text": [
      "[('snail', 'mollusk', 1)]\n",
      "True\n"
     ]
    }
   ],
   "source": [
    "# Reduced height of recursion: can only move up 3 at least\n",
    "\n",
    "def validate(word, category) -> bool:   \n",
    "    validation_query = \"\"\"\n",
    "       WITH RECURSIVE \n",
    "        search(word, category, depth) AS(\n",
    "            SELECT word, category, 0 FROM categories WHERE word = %s\n",
    "\n",
    "            UNION \n",
    "\n",
    "            SELECT s.word, c.category, s.depth + 1\n",
    "            FROM search s, categories c\n",
    "            WHERE s.category = c.word AND s.word != c.category AND s.depth < 5\n",
    "        )\n",
    "\n",
    "        SELECT * \n",
    "        FROM search\n",
    "        WHERE word = %s AND category = %s   \n",
    "    \"\"\"\n",
    "    try:\n",
    "        cursor.execute(validation_query, (word, word, category))\n",
    "        result = cursor.fetchall()\n",
    "        print(result)\n",
    "        return len(result) > 0\n",
    "    except Exception as e:\n",
    "        conn.rollback()\n",
    "        print(f\"An error occurred: {e}\")\n",
    "\n",
    "\n",
    "result = validate(\"snail\", \"mollusk\")\n",
    "print(result)"
   ]
  },
  {
   "cell_type": "markdown",
   "id": "f3fc5b38-b27d-403c-a129-b8285e8ce02b",
   "metadata": {},
   "source": [
    "### We need to get all categories that \"have enough words\""
   ]
  },
  {
   "cell_type": "code",
   "execution_count": 54,
   "id": "1d59c873-bf09-4cc8-a0aa-bc4c6e79c5c5",
   "metadata": {},
   "outputs": [
    {
     "name": "stdout",
     "output_type": "stream",
     "text": [
      "212\n",
      "[('common fraction', 65), ('list', 65), ('indian', 65), ('food', 66), ('artifact', 66), ('cut', 66), ('protoctist genus', 66), ('information', 66), ('animal', 66), ('situation', 67), ('note', 67), ('poisonous plant', 67), ('flavorer', 67), ('ball', 67), ('company', 68), ('framework', 68), ('gathering', 69), ('compass point', 69), ('board', 69), ('gas', 69), ('cavity', 69), ('pain', 69), ('antibiotic', 69), ('employee', 70), ('program', 70), ('musician', 71), ('animal disease', 71), ('aquatic plant', 71), ('tract', 71), ('legume', 71), ('group action', 72), ('neural structure', 72), ('communication', 72), ('work', 72), ('organic compound', 72), ('dynasty', 73), ('mollusk family', 74), ('criminal', 74), ('mechanical device', 74), ('phylum', 74), ('feeling', 74), ('electrical device', 74), ('disease', 74), ('large indefinite quantity', 75), ('fern family', 75), ('linear unit', 75), ('house', 76), ('bag', 76), ('vessel', 76), ('asian', 76), ('reflex', 77), ('amphibian genus', 77), ('doctrine', 77), ('examination', 77), ('insect', 77), ('sauce', 77), ('movement', 77), ('organism', 77), ('people', 78), ('action', 78), ('statement', 78), ('mollusk genus', 79), ('skeletal muscle', 79), ('pine', 79), ('body', 79), ('weed', 79), ('light', 79), ('writing', 80), ('computer memory unit', 80), ('cry', 80), ('representation', 81), ('salt', 81), ('shop', 81), ('liliaceous plant', 81), ('small indefinite quantity', 81), ('force', 81), ('communicator', 82), ('happening', 82), ('beginning', 83), ('machine', 84), ('message', 85), ('official', 85), ('percoid fish', 85), ('expert', 86), ('number', 86), ('container', 86), ('car', 86), ('set', 87), ('garment', 87), ('abnormality', 87), ('pathology', 88), ('object', 88), ('act', 89), ('specialist', 89), ('decoration', 89), ('physical condition', 90), ('disorder', 90), ('organization', 90), ('covering', 91), ('conifer', 91), ('word', 93), ('trait', 93), ('region', 93), ('building', 94), ('compound', 95), ('plant genus', 95), ('man', 96), ('reptile family', 98), ('material', 98), ('rosid dicot family', 98), ('natural process', 101), ('american', 102), ('part', 102), ('containerful', 102), ('change', 103), ('european', 103), ('body part', 104), ('digit', 104), ('rate', 105), ('division', 106), ('monocot family', 106), ('party', 107), ('acid', 108), ('dilleniid dicot family', 108), ('law', 109), ('day', 112), ('worker', 112), ('process', 113), ('point', 113), ('fungus', 113), ('woman', 113), ('group', 114), ('unpleasant person', 114), ('skilled worker', 114), ('gymnosperm genus', 115), ('magnoliid dicot genus', 116), ('support', 117), ('property', 117), ('bone', 118), ('agent', 119), ('measuring instrument', 119), ('noise', 119), ('wood', 119), ('sound', 122), ('inflammation', 124), ('liliid monocot genus', 126), ('motion', 127), ('letter', 128), ('edible fruit', 130), ('agaric', 130), ('monetary unit', 134), ('organic process', 137), ('subshrub', 137), ('area', 140), ('grass', 140), ('system', 140), ('fungus family', 142), ('orchid', 146), ('state', 146), ('operation', 151), ('angiospermous tree', 152), ('agency', 152), ('artery', 152), ('large integer', 156), ('room', 157), ('collection', 159), ('chemical element', 160), ('activity', 161), ('plant order', 164), ('fruit tree', 171), ('caryophylloid dicot genus', 173), ('time period', 175), ('mineral', 181), ('wildflower', 189), ('symptom', 190), ('fern', 194), ('line', 195), ('dicot family', 198), ('dish', 203), ('condition', 206), ('device', 209), ('fabric', 217), ('structure', 220), ('fern genus', 221), ('mammal family', 237), ('medicine', 241), ('vine', 245), ('metallic element', 246), ('position', 254), ('quality', 256), ('fungus genus', 258), ('flower', 264), ('vein', 270), ('bird family', 294), ('reptile genus', 297), ('fish family', 353), ('arthropod family', 387), ('dilleniid dicot genus', 402), ('monocot genus', 429), ('class', 430), ('dicot genus', 441), ('tree', 460), ('arthropod genus', 502), ('rosid dicot genus', 562), ('fish genus', 571), ('asterid dicot genus', 584), ('animal order', 591), ('person', 644), ('mammal genus', 698), ('shrub', 744), ('bird genus', 779), ('herb', 914)]\n"
     ]
    }
   ],
   "source": [
    "get_categories = \"\"\"\n",
    "    SELECT category, COUNT(*)\n",
    "    FROM categories\n",
    "    GROUP BY category\n",
    "    HAVING COUNT(*) >= 65\n",
    "    ORDER BY COUNT(*)\n",
    "\"\"\"\n",
    "\n",
    "# a recursive, difficult query\n",
    "result = make_query(get_categories)\n",
    "print(len(result))\n",
    "print(result)"
   ]
  },
  {
   "cell_type": "code",
   "execution_count": 57,
   "id": "6199bf1b-5f56-4cbc-925d-f9651221416b",
   "metadata": {},
   "outputs": [
    {
     "name": "stdout",
     "output_type": "stream",
     "text": [
      "Category: program Current score: 0\n"
     ]
    },
    {
     "name": "stdin",
     "output_type": "stream",
     "text": [
      "Enter your guess:  engineering\n"
     ]
    },
    {
     "name": "stdout",
     "output_type": "stream",
     "text": [
      "[('engineering', 'program', 1), ('engineering', 'program', 3), ('engineering', 'program', 4), ('engineering', 'program', 5)]\n",
      "Category: common fraction Current score: 11\n"
     ]
    },
    {
     "name": "stdin",
     "output_type": "stream",
     "text": [
      "Enter your guess:  denominator\n"
     ]
    },
    {
     "name": "stdout",
     "output_type": "stream",
     "text": [
      "[]\n"
     ]
    },
    {
     "name": "stdin",
     "output_type": "stream",
     "text": [
      "Incorrect guess, try again:  SKIP\n"
     ]
    },
    {
     "name": "stdout",
     "output_type": "stream",
     "text": [
      "[]\n",
      "Category: monocot genus Current score: 11\n"
     ]
    },
    {
     "name": "stdin",
     "output_type": "stream",
     "text": [
      "Enter your guess:  SKIP\n"
     ]
    },
    {
     "name": "stdout",
     "output_type": "stream",
     "text": [
      "[]\n",
      "Category: linear unit Current score: 11\n"
     ]
    },
    {
     "name": "stdin",
     "output_type": "stream",
     "text": [
      "Enter your guess:  kilometer\n"
     ]
    },
    {
     "name": "stdout",
     "output_type": "stream",
     "text": [
      "[('kilometer', 'linear unit', 1)]\n",
      "Category: region Current score: 20\n"
     ]
    },
    {
     "name": "stdin",
     "output_type": "stream",
     "text": [
      "Enter your guess:  europe\n"
     ]
    },
    {
     "name": "stdout",
     "output_type": "stream",
     "text": [
      "[]\n"
     ]
    },
    {
     "name": "stdin",
     "output_type": "stream",
     "text": [
      "Incorrect guess, try again:  northern\n"
     ]
    },
    {
     "name": "stdout",
     "output_type": "stream",
     "text": [
      "[]\n"
     ]
    },
    {
     "name": "stdin",
     "output_type": "stream",
     "text": [
      "Incorrect guess, try again:  northern region\n"
     ]
    },
    {
     "name": "stdout",
     "output_type": "stream",
     "text": [
      "[]\n"
     ]
    },
    {
     "name": "stdin",
     "output_type": "stream",
     "text": [
      "Incorrect guess, try again:  east asia\n"
     ]
    },
    {
     "name": "stdout",
     "output_type": "stream",
     "text": [
      "[]\n"
     ]
    },
    {
     "name": "stdin",
     "output_type": "stream",
     "text": [
      "Incorrect guess, try again:  north america\n"
     ]
    },
    {
     "name": "stdout",
     "output_type": "stream",
     "text": [
      "[]\n"
     ]
    },
    {
     "name": "stdin",
     "output_type": "stream",
     "text": [
      "Incorrect guess, try again:  STOP\n"
     ]
    },
    {
     "name": "stdout",
     "output_type": "stream",
     "text": [
      "[]\n",
      "You exited the game\n"
     ]
    }
   ],
   "source": [
    "import random\n",
    "\n",
    "categories = [x[0] for x in make_query(get_categories)]\n",
    "\n",
    "assert len(categories) == len(set(categories))\n",
    "\n",
    "random.shuffle(categories)\n",
    "\n",
    "score = 0\n",
    "num_categories = 0;\n",
    "\n",
    "guess = \"\"\n",
    "\n",
    "idx = 0\n",
    "\n",
    "while guess != \"STOP\":\n",
    "    category = categories[idx % len(categories)]\n",
    "    print(f\"Category: {category} Current score: {score}\")\n",
    "    \n",
    "    num_categories += 1\n",
    "    \n",
    "    guess = input(\"Enter your guess: \")\n",
    "    if guess == \"STOP\":\n",
    "        break\n",
    "    while(not validate(guess, category) and guess != \"SKIP\" and guess != \"STOP\"):\n",
    "        guess = input(\"Incorrect guess, try again: \")\n",
    "        \n",
    "    if guess != \"SKIP\":\n",
    "        score += len(guess)\n",
    "    idx += 1\n",
    "\n",
    "if score >= 1000:\n",
    "    print(f\"Game complete! Final number of categories: {num_categories}\")\n",
    "else:\n",
    "    print(\"You exited the game\")"
   ]
  },
  {
   "cell_type": "code",
   "execution_count": null,
   "id": "c8e2407a-4c8c-4e80-ad88-292803b5ba70",
   "metadata": {},
   "outputs": [],
   "source": []
  }
 ],
 "metadata": {
  "kernelspec": {
   "display_name": "Python 3 (ipykernel)",
   "language": "python",
   "name": "python3"
  },
  "language_info": {
   "codemirror_mode": {
    "name": "ipython",
    "version": 3
   },
   "file_extension": ".py",
   "mimetype": "text/x-python",
   "name": "python",
   "nbconvert_exporter": "python",
   "pygments_lexer": "ipython3",
   "version": "3.13.3"
  }
 },
 "nbformat": 4,
 "nbformat_minor": 5
}
